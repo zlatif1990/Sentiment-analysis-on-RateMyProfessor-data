{
 "cells": [
  {
   "cell_type": "code",
   "execution_count": 1,
   "id": "c8385820",
   "metadata": {},
   "outputs": [],
   "source": [
    "import pandas as pd\n",
    "import numpy as np\n",
    "\n",
    "import nltk\n",
    "from nltk.corpus import stopwords\n",
    "from nltk.stem import PorterStemmer\n",
    "\n",
    "import matplotlib.pyplot as plt\n",
    "import seaborn as sns\n",
    "from itertools import cycle, islice\n",
    "\n",
    "from sklearn.model_selection import train_test_split\n",
    "from sklearn.feature_extraction.text import TfidfVectorizer, CountVectorizer\n",
    "from sklearn import metrics\n",
    "\n",
    "from sklearn.linear_model import LogisticRegression\n",
    "from sklearn.svm import SVC\n",
    "from sklearn.naive_bayes import MultinomialNB\n",
    "from sklearn.tree import DecisionTreeClassifier\n",
    "from sklearn.neighbors import KNeighborsClassifier\n",
    "from sklearn.ensemble import RandomForestClassifier\n",
    "\n",
    "from imblearn.over_sampling import ADASYN, SMOTE, RandomOverSampler"
   ]
  },
  {
   "cell_type": "code",
   "execution_count": 2,
   "id": "2b5dc6bc",
   "metadata": {},
   "outputs": [],
   "source": [
    "## create dtf\n",
    "\n",
    "data = pd.read_csv(\"data.csv\")\n",
    "\n",
    "## dropping all columns except the following\n",
    "data = data[['student_star','comments']]\n",
    "\n",
    "# 5.0 to 4.0 - Good\n",
    "# 3.5 to 2.5 - Average\n",
    "# 2.0 to 1.0 - Bad\n",
    "\n",
    "data['student_star'] = data['student_star'].replace([5.0],'Good')\n",
    "data['student_star'] = data['student_star'].replace([4.5],'Good')\n",
    "data['student_star'] = data['student_star'].replace([4.0],'Good')\n",
    "\n",
    "data['student_star'] = data['student_star'].replace([3.5],'Average')\n",
    "data['student_star'] = data['student_star'].replace([3.0],'Average')\n",
    "data['student_star'] = data['student_star'].replace([2.5],'Average')\n",
    "\n",
    "data['student_star'] = data['student_star'].replace([2.0],'Bad')\n",
    "data['student_star'] = data['student_star'].replace([1.5],'Bad')\n",
    "data['student_star'] = data['student_star'].replace([1.0],'Bad')\n",
    "\n",
    "## rename columns\n",
    "data = data.rename(columns={\"student_star\":\"Labels\", \"comments\":\"Text\"})\n",
    "\n",
    "## dropping rows with na\n",
    "data = data.dropna()\n",
    "\n",
    "## print 5 random rows\n",
    "data.sample(5)\n",
    "\n",
    "## removing blank rows\n",
    "data = data.dropna()"
   ]
  },
  {
   "cell_type": "code",
   "execution_count": 3,
   "id": "d437115d",
   "metadata": {},
   "outputs": [
    {
     "data": {
      "text/plain": [
       "Good       11814\n",
       "Bad         4764\n",
       "Average     3415\n",
       "Name: Labels, dtype: int64"
      ]
     },
     "execution_count": 3,
     "metadata": {},
     "output_type": "execute_result"
    }
   ],
   "source": [
    "## Class distribution\n",
    "\n",
    "data['Labels'].value_counts()"
   ]
  },
  {
   "cell_type": "code",
   "execution_count": 4,
   "id": "14388cd8",
   "metadata": {},
   "outputs": [
    {
     "data": {
      "image/png": "[encoded data removed]",
      "text/plain": [
       "<Figure size 432x288 with 1 Axes>"
      ]
     },
     "metadata": {
      "needs_background": "light"
     },
     "output_type": "display_data"
    }
   ],
   "source": [
    "## Plotting class distribution\n",
    "\n",
    "fig, ax = plt.subplots()\n",
    "fig.suptitle(\"Class frequency\", fontsize=12)\n",
    "data[\"Labels\"].reset_index().groupby(\"Labels\").count().sort_values(by = \"index\").plot(kind = \"barh\", legend=False, ax=ax).grid(axis = 'x')\n",
    "plt.show()"
   ]
  },
  {
   "cell_type": "code",
   "execution_count": 5,
   "id": "0318cfee",
   "metadata": {},
   "outputs": [
    {
     "name": "stderr",
     "output_type": "stream",
     "text": [
      "[nltk_data] Downloading package stopwords to\n",
      "[nltk_data]     C:\\Users\\Teacher\\AppData\\Roaming\\nltk_data...\n",
      "[nltk_data]   Package stopwords is already up-to-date!\n"
     ]
    }
   ],
   "source": [
    "## Downloading and storing english stop words\n",
    "\n",
    "nltk.download('stopwords')\n",
    "stop = stopwords.words('english')"
   ]
  },
  {
   "cell_type": "code",
   "execution_count": 6,
   "id": "c78e0a75",
   "metadata": {},
   "outputs": [
    {
     "data": {
      "text/html": [
       "<div>\n",
       "<style scoped>\n",
       "    .dataframe tbody tr th:only-of-type {\n",
       "        vertical-align: middle;\n",
       "    }\n",
       "\n",
       "    .dataframe tbody tr th {\n",
       "        vertical-align: top;\n",
       "    }\n",
       "\n",
       "    .dataframe thead th {\n",
       "        text-align: right;\n",
       "    }\n",
       "</style>\n",
       "<table border=\"1\" class=\"dataframe\">\n",
       "  <thead>\n",
       "    <tr style=\"text-align: right;\">\n",
       "      <th></th>\n",
       "      <th>Labels</th>\n",
       "      <th>Text</th>\n",
       "    </tr>\n",
       "  </thead>\n",
       "  <tbody>\n",
       "    <tr>\n",
       "      <th>0</th>\n",
       "      <td>Good</td>\n",
       "      <td>This class is hard, but its a two-in-one gen-e...</td>\n",
       "    </tr>\n",
       "    <tr>\n",
       "      <th>1</th>\n",
       "      <td>Good</td>\n",
       "      <td>Definitely going to choose Prof. Looney\\'s cla...</td>\n",
       "    </tr>\n",
       "    <tr>\n",
       "      <th>2</th>\n",
       "      <td>Good</td>\n",
       "      <td>I overall enjoyed this class because the assig...</td>\n",
       "    </tr>\n",
       "    <tr>\n",
       "      <th>3</th>\n",
       "      <td>Good</td>\n",
       "      <td>Yes, it\\'s possible to get an A but you\\'ll de...</td>\n",
       "    </tr>\n",
       "    <tr>\n",
       "      <th>4</th>\n",
       "      <td>Good</td>\n",
       "      <td>Professor Looney has great knowledge in Astron...</td>\n",
       "    </tr>\n",
       "  </tbody>\n",
       "</table>\n",
       "</div>"
      ],
      "text/plain": [
       "  Labels                                               Text\n",
       "0   Good  This class is hard, but its a two-in-one gen-e...\n",
       "1   Good  Definitely going to choose Prof. Looney\\'s cla...\n",
       "2   Good  I overall enjoyed this class because the assig...\n",
       "3   Good  Yes, it\\'s possible to get an A but you\\'ll de...\n",
       "4   Good  Professor Looney has great knowledge in Astron..."
      ]
     },
     "execution_count": 6,
     "metadata": {},
     "output_type": "execute_result"
    }
   ],
   "source": [
    "## Data snapshot\n",
    "\n",
    "data.head()"
   ]
  },
  {
   "cell_type": "code",
   "execution_count": 7,
   "id": "5ef723b9",
   "metadata": {},
   "outputs": [
    {
     "name": "stderr",
     "output_type": "stream",
     "text": [
      "c:\\users\\teacher\\appdata\\local\\programs\\python\\python37\\lib\\site-packages\\ipykernel_launcher.py:2: FutureWarning: The default value of regex will change from True to False in a future version.\n",
      "  \n"
     ]
    }
   ],
   "source": [
    "#Removing punctuation\n",
    "data['Text'] = data['Text'].str.replace('[^\\w\\s]','')\n",
    "\n",
    "#Removing stopwords\n",
    "data['Text'] = data['Text'].apply(lambda x: \" \".join(x for x in x.split() if x not in stop))\n",
    "data['Text'] = data['Text'].apply(lambda x: \" \".join(x.lower() for x in x.split()))\n",
    "\n",
    "#Stemming\n",
    "stemmer = PorterStemmer()\n",
    "data['Text'] = data['Text'].apply(lambda x: \" \".join([stemmer.stem(word) for word in x.split()]))"
   ]
  },
  {
   "cell_type": "code",
   "execution_count": 8,
   "id": "de237d4b",
   "metadata": {},
   "outputs": [
    {
     "name": "stdout",
     "output_type": "stream",
     "text": [
      "Good       11814\n",
      "Bad         4764\n",
      "Average     3415\n",
      "Name: Labels, dtype: int64\n"
     ]
    },
    {
     "data": {
      "image/png": "[encoded data removed]",
      "text/plain": [
       "<Figure size 432x288 with 1 Axes>"
      ]
     },
     "metadata": {
      "needs_background": "light"
     },
     "output_type": "display_data"
    }
   ],
   "source": [
    "## Looking at class distribution before over sampling\n",
    "\n",
    "my_colors = list(islice(cycle(['b', 'r', 'g']), None, len(data)))\n",
    "label_count = data.Labels.value_counts()\n",
    "print(label_count)\n",
    "label_count.plot(kind='bar', color=my_colors, title='Data sample per class: Before resampling');"
   ]
  },
  {
   "cell_type": "code",
   "execution_count": 9,
   "id": "4a52af70",
   "metadata": {},
   "outputs": [],
   "source": [
    "## Split data into 70% training and 30% testing set\n",
    "\n",
    "feature_cols = ['Text']\n",
    "X = data[feature_cols]\n",
    "y = data.Labels\n",
    "\n",
    "X_train, X_test, y_train, y_test = train_test_split(X, y, test_size=0.3, random_state=0)"
   ]
  },
  {
   "cell_type": "code",
   "execution_count": 10,
   "id": "8b71df1f",
   "metadata": {},
   "outputs": [
    {
     "name": "stdout",
     "output_type": "stream",
     "text": [
      "(13995, 12459)\n",
      "(5998, 12459)\n"
     ]
    }
   ],
   "source": [
    "## Using Count vectorizer to get features from words\n",
    "\n",
    "vect = CountVectorizer(analyzer = \"word\")\n",
    "X_train_dtm = vect.fit_transform(X_train.Text)\n",
    "X_test_dtm = vect.transform(X_test.Text)\n",
    "print(X_train_dtm.shape)\n",
    "print(X_test_dtm.shape)"
   ]
  },
  {
   "cell_type": "code",
   "execution_count": 11,
   "id": "74865183",
   "metadata": {},
   "outputs": [],
   "source": [
    "## Oversampling the minority class on training set\n",
    "\n",
    "smt = SMOTE(random_state=777, k_neighbors=1)\n",
    "X_SMOTE, y_SMOTE = smt.fit_resample(X_train_dtm, y_train)\n",
    "X_train_dtm = X_SMOTE\n",
    "y_train = y_SMOTE"
   ]
  },
  {
   "cell_type": "code",
   "execution_count": 12,
   "id": "6f7cbdb9",
   "metadata": {},
   "outputs": [
    {
     "name": "stdout",
     "output_type": "stream",
     "text": [
      "Good       8286\n",
      "Average    8286\n",
      "Bad        8286\n",
      "Name: Labels, dtype: int64\n"
     ]
    },
    {
     "data": {
      "image/png": "[encoded data removed]",
      "text/plain": [
       "<Figure size 432x288 with 1 Axes>"
      ]
     },
     "metadata": {
      "needs_background": "light"
     },
     "output_type": "display_data"
    }
   ],
   "source": [
    "## Looking at class distribution of training set after oversampling\n",
    "\n",
    "my_colors = list(islice(cycle(['b', 'r', 'g']), None, len(data)))\n",
    "label_count = y_train.value_counts()\n",
    "print(label_count)\n",
    "label_count.plot(kind='bar', color=my_colors, title='Data sample per class: After resampling');"
   ]
  },
  {
   "cell_type": "code",
   "execution_count": 14,
   "id": "6a120f73",
   "metadata": {},
   "outputs": [],
   "source": [
    "## Preparing a dataframe to store the results\n",
    "\n",
    "evaluation = pd.read_csv(\"results.csv\")"
   ]
  },
  {
   "cell_type": "markdown",
   "id": "3abfd927",
   "metadata": {},
   "source": [
    "##### Loading the different ML models.\n",
    "##### Training and Testing"
   ]
  },
  {
   "cell_type": "code",
   "execution_count": 15,
   "id": "014ff40a",
   "metadata": {},
   "outputs": [
    {
     "name": "stderr",
     "output_type": "stream",
     "text": [
      "c:\\users\\teacher\\appdata\\local\\programs\\python\\python37\\lib\\site-packages\\sklearn\\linear_model\\_logistic.py:818: ConvergenceWarning: lbfgs failed to converge (status=1):\n",
      "STOP: TOTAL NO. of ITERATIONS REACHED LIMIT.\n",
      "\n",
      "Increase the number of iterations (max_iter) or scale the data as shown in:\n",
      "    https://scikit-learn.org/stable/modules/preprocessing.html\n",
      "Please also refer to the documentation for alternative solver options:\n",
      "    https://scikit-learn.org/stable/modules/linear_model.html#logistic-regression\n",
      "  extra_warning_msg=_LOGISTIC_SOLVER_CONVERGENCE_MSG,\n"
     ]
    },
    {
     "name": "stdout",
     "output_type": "stream",
     "text": [
      "\n",
      "Logistic Regression:\n",
      "\tAccuracy: 0.6478826275425141\n",
      "\tPrecision: 0.565338926237307\n",
      "\tRecall: 0.5836772716749535\n",
      "\tF1-Score: 0.5712253041147413\n",
      "Detail:\n",
      "              precision    recall  f1-score   support\n",
      "\n",
      "     Average       0.29      0.34      0.32      1020\n",
      "         Bad       0.58      0.69      0.63      1450\n",
      "        Good       0.82      0.72      0.77      3528\n",
      "\n",
      "    accuracy                           0.65      5998\n",
      "   macro avg       0.57      0.58      0.57      5998\n",
      "weighted avg       0.67      0.65      0.66      5998\n",
      "\n"
     ]
    },
    {
     "data": {
      "text/plain": [
       "(array([0.5, 1.5, 2.5]),\n",
       " [Text(0, 0.5, 'Average'), Text(0, 1.5, 'Bad'), Text(0, 2.5, 'Good')])"
      ]
     },
     "execution_count": 15,
     "metadata": {},
     "output_type": "execute_result"
    },
    {
     "data": {
      "image/png": "[encoded data removed]",
      "text/plain": [
       "<Figure size 432x288 with 1 Axes>"
      ]
     },
     "metadata": {
      "needs_background": "light"
     },
     "output_type": "display_data"
    }
   ],
   "source": [
    "model = LogisticRegression(C=1e9)\n",
    "model.fit(X_train_dtm, y_train)\n",
    "y_pred_class = model.predict(X_test_dtm)\n",
    "\n",
    "acuracy = metrics.accuracy_score(y_test, y_pred_class)\n",
    "precision = metrics.precision_score(y_test, y_pred_class, average='macro')\n",
    "recall = metrics.recall_score(y_test, y_pred_class, average='macro')\n",
    "f1score = metrics.f1_score(y_test, y_pred_class, average='macro')\n",
    "\n",
    "print(\"\\nLogistic Regression:\")\n",
    "print(\"\\tAccuracy:\",acuracy)\n",
    "print(\"\\tPrecision:\",precision)\n",
    "print(\"\\tRecall:\",recall)\n",
    "print(\"\\tF1-Score:\",f1score)\n",
    "\n",
    "new_row = {'Approach':'Machine Learning + TfIdf Vectorizer + Text Preprocessing', \n",
    "           'Algorithm':'Logistic Regression', \n",
    "           'Accuracy':acuracy, \n",
    "           'Precision':precision,\n",
    "           'Recall':recall,\n",
    "           'F1-Score':f1score\n",
    "          }\n",
    "\n",
    "evaluation = evaluation.append(new_row, ignore_index=True)\n",
    "\n",
    "\n",
    "print(\"Detail:\")\n",
    "print(metrics.classification_report(y_test, y_pred_class))\n",
    "\n",
    "classes = np.unique(y_test)\n",
    "\n",
    "## Plot confusion matrix\n",
    "cm = metrics.confusion_matrix(y_test, y_pred_class)\n",
    "fig, ax = plt.subplots()\n",
    "sns.heatmap(cm, annot=True, fmt='d', ax=ax, cmap=plt.cm.Blues, \n",
    "            cbar=False)\n",
    "ax.set(xlabel=\"Pred\", ylabel=\"True\", xticklabels=classes, \n",
    "       yticklabels=classes, title=\"Confusion matrix\")\n",
    "plt.yticks(rotation=0)"
   ]
  },
  {
   "cell_type": "code",
   "execution_count": 16,
   "id": "67b0f5d8",
   "metadata": {},
   "outputs": [
    {
     "name": "stdout",
     "output_type": "stream",
     "text": [
      "\n",
      "SVM:\n",
      "\tAccuracy: 0.668056018672891\n",
      "\tPrecision: 0.5541197783143217\n",
      "\tRecall: 0.5500672759525266\n",
      "\tF1-Score: 0.5484027265211014\n",
      "Detail:\n",
      "              precision    recall  f1-score   support\n",
      "\n",
      "     Average       0.28      0.19      0.23      1020\n",
      "         Bad       0.63      0.65      0.64      1450\n",
      "        Good       0.75      0.82      0.78      3528\n",
      "\n",
      "    accuracy                           0.67      5998\n",
      "   macro avg       0.55      0.55      0.55      5998\n",
      "weighted avg       0.64      0.67      0.65      5998\n",
      "\n"
     ]
    },
    {
     "data": {
      "text/plain": [
       "(array([0.5, 1.5, 2.5]),\n",
       " [Text(0, 0.5, 'Average'), Text(0, 1.5, 'Bad'), Text(0, 2.5, 'Good')])"
      ]
     },
     "execution_count": 16,
     "metadata": {},
     "output_type": "execute_result"
    },
    {
     "data": {
      "image/png": "[encoded data removed]",
      "text/plain": [
       "<Figure size 432x288 with 1 Axes>"
      ]
     },
     "metadata": {
      "needs_background": "light"
     },
     "output_type": "display_data"
    }
   ],
   "source": [
    "model = SVC()\n",
    "model.fit(X_train_dtm, y_train)\n",
    "y_pred_class = model.predict(X_test_dtm)\n",
    "\n",
    "acuracy = metrics.accuracy_score(y_test, y_pred_class)\n",
    "precision = metrics.precision_score(y_test, y_pred_class, average='macro')\n",
    "recall = metrics.recall_score(y_test, y_pred_class, average='macro')\n",
    "f1score = metrics.f1_score(y_test, y_pred_class, average='macro')\n",
    "\n",
    "print(\"\\nSVM:\")\n",
    "print(\"\\tAccuracy:\",acuracy)\n",
    "print(\"\\tPrecision:\",precision)\n",
    "print(\"\\tRecall:\",recall)\n",
    "print(\"\\tF1-Score:\",f1score)\n",
    "\n",
    "new_row = {'Approach':'Machine Learning + TfIdf Vectorizer + Text Preprocessing', \n",
    "           'Algorithm':'SVM', \n",
    "           'Accuracy':acuracy, \n",
    "           'Precision':precision,\n",
    "           'Recall':recall,\n",
    "           'F1-Score':f1score\n",
    "          }\n",
    "\n",
    "evaluation = evaluation.append(new_row, ignore_index=True)\n",
    "\n",
    "\n",
    "print(\"Detail:\")\n",
    "print(metrics.classification_report(y_test, y_pred_class))\n",
    "\n",
    "classes = np.unique(y_test)\n",
    "\n",
    "## Plot confusion matrix\n",
    "cm = metrics.confusion_matrix(y_test, y_pred_class)\n",
    "fig, ax = plt.subplots()\n",
    "sns.heatmap(cm, annot=True, fmt='d', ax=ax, cmap=plt.cm.Blues, \n",
    "            cbar=False)\n",
    "ax.set(xlabel=\"Pred\", ylabel=\"True\", xticklabels=classes, \n",
    "       yticklabels=classes, title=\"Confusion matrix\")\n",
    "plt.yticks(rotation=0)"
   ]
  },
  {
   "cell_type": "code",
   "execution_count": 17,
   "id": "97b384cf",
   "metadata": {},
   "outputs": [
    {
     "name": "stdout",
     "output_type": "stream",
     "text": [
      "\n",
      "Multinomial NB:\n",
      "\tAccuracy: 0.6965655218406135\n",
      "\tPrecision: 0.6132481014919706\n",
      "\tRecall: 0.6305413813034791\n",
      "\tF1-Score: 0.6200803469907127\n",
      "Detail:\n",
      "              precision    recall  f1-score   support\n",
      "\n",
      "     Average       0.35      0.39      0.37      1020\n",
      "         Bad       0.65      0.73      0.69      1450\n",
      "        Good       0.84      0.77      0.81      3528\n",
      "\n",
      "    accuracy                           0.70      5998\n",
      "   macro avg       0.61      0.63      0.62      5998\n",
      "weighted avg       0.71      0.70      0.70      5998\n",
      "\n"
     ]
    },
    {
     "data": {
      "text/plain": [
       "(array([0.5, 1.5, 2.5]),\n",
       " [Text(0, 0.5, 'Average'), Text(0, 1.5, 'Bad'), Text(0, 2.5, 'Good')])"
      ]
     },
     "execution_count": 17,
     "metadata": {},
     "output_type": "execute_result"
    },
    {
     "data": {
      "image/png": "[encoded data removed]",
      "text/plain": [
       "<Figure size 432x288 with 1 Axes>"
      ]
     },
     "metadata": {
      "needs_background": "light"
     },
     "output_type": "display_data"
    }
   ],
   "source": [
    "model = MultinomialNB()\n",
    "model.fit(X_train_dtm, y_train)\n",
    "y_pred_class = model.predict(X_test_dtm)\n",
    "\n",
    "acuracy = metrics.accuracy_score(y_test, y_pred_class)\n",
    "precision = metrics.precision_score(y_test, y_pred_class, average='macro')\n",
    "recall = metrics.recall_score(y_test, y_pred_class, average='macro')\n",
    "f1score = metrics.f1_score(y_test, y_pred_class, average='macro')\n",
    "\n",
    "print(\"\\nMultinomial NB:\")\n",
    "print(\"\\tAccuracy:\",acuracy)\n",
    "print(\"\\tPrecision:\",precision)\n",
    "print(\"\\tRecall:\",recall)\n",
    "print(\"\\tF1-Score:\",f1score)\n",
    "\n",
    "new_row = {'Approach':'Machine Learning + TfIdf Vectorizer + Text Preprocessing', \n",
    "           'Algorithm':'Multinomial NB', \n",
    "           'Accuracy':acuracy, \n",
    "           'Precision':precision,\n",
    "           'Recall':recall,\n",
    "           'F1-Score':f1score\n",
    "          }\n",
    "\n",
    "evaluation = evaluation.append(new_row, ignore_index=True)\n",
    "\n",
    "\n",
    "print(\"Detail:\")\n",
    "print(metrics.classification_report(y_test, y_pred_class))\n",
    "\n",
    "classes = np.unique(y_test)\n",
    "\n",
    "## Plot confusion matrix\n",
    "cm = metrics.confusion_matrix(y_test, y_pred_class)\n",
    "fig, ax = plt.subplots()\n",
    "sns.heatmap(cm, annot=True, fmt='d', ax=ax, cmap=plt.cm.Blues, \n",
    "            cbar=False)\n",
    "ax.set(xlabel=\"Pred\", ylabel=\"True\", xticklabels=classes, \n",
    "       yticklabels=classes, title=\"Confusion matrix\")\n",
    "plt.yticks(rotation=0)"
   ]
  },
  {
   "cell_type": "code",
   "execution_count": 18,
   "id": "6c2ec7f8",
   "metadata": {},
   "outputs": [
    {
     "name": "stdout",
     "output_type": "stream",
     "text": [
      "\n",
      "Decision Tree:\n",
      "\tAccuracy: 0.5748582860953652\n",
      "\tPrecision: 0.49215834670171893\n",
      "\tRecall: 0.5051201630077319\n",
      "\tF1-Score: 0.49516735941618695\n",
      "Detail:\n",
      "              precision    recall  f1-score   support\n",
      "\n",
      "     Average       0.23      0.26      0.24      1020\n",
      "         Bad       0.49      0.60      0.54      1450\n",
      "        Good       0.76      0.66      0.70      3528\n",
      "\n",
      "    accuracy                           0.57      5998\n",
      "   macro avg       0.49      0.51      0.50      5998\n",
      "weighted avg       0.60      0.57      0.59      5998\n",
      "\n"
     ]
    },
    {
     "data": {
      "text/plain": [
       "(array([0.5, 1.5, 2.5]),\n",
       " [Text(0, 0.5, 'Average'), Text(0, 1.5, 'Bad'), Text(0, 2.5, 'Good')])"
      ]
     },
     "execution_count": 18,
     "metadata": {},
     "output_type": "execute_result"
    },
    {
     "data": {
      "image/png": "[encoded data removed]",
      "text/plain": [
       "<Figure size 432x288 with 1 Axes>"
      ]
     },
     "metadata": {
      "needs_background": "light"
     },
     "output_type": "display_data"
    }
   ],
   "source": [
    "model = DecisionTreeClassifier()\n",
    "model.fit(X_train_dtm, y_train)\n",
    "y_pred_class = model.predict(X_test_dtm)\n",
    "\n",
    "acuracy = metrics.accuracy_score(y_test, y_pred_class)\n",
    "precision = metrics.precision_score(y_test, y_pred_class, average='macro')\n",
    "recall = metrics.recall_score(y_test, y_pred_class, average='macro')\n",
    "f1score = metrics.f1_score(y_test, y_pred_class, average='macro')\n",
    "\n",
    "print(\"\\nDecision Tree:\")\n",
    "print(\"\\tAccuracy:\",acuracy)\n",
    "print(\"\\tPrecision:\",precision)\n",
    "print(\"\\tRecall:\",recall)\n",
    "print(\"\\tF1-Score:\",f1score)\n",
    "\n",
    "new_row = {'Approach':'Machine Learning + TfIdf Vectorizer + Text Preprocessing', \n",
    "           'Algorithm':'Decision Tree', \n",
    "           'Accuracy':acuracy, \n",
    "           'Precision':precision,\n",
    "           'Recall':recall,\n",
    "           'F1-Score':f1score\n",
    "          }\n",
    "\n",
    "evaluation = evaluation.append(new_row, ignore_index=True)\n",
    "\n",
    "\n",
    "print(\"Detail:\")\n",
    "print(metrics.classification_report(y_test, y_pred_class))\n",
    "\n",
    "classes = np.unique(y_test)\n",
    "\n",
    "## Plot confusion matrix\n",
    "cm = metrics.confusion_matrix(y_test, y_pred_class)\n",
    "fig, ax = plt.subplots()\n",
    "sns.heatmap(cm, annot=True, fmt='d', ax=ax, cmap=plt.cm.Blues, \n",
    "            cbar=False)\n",
    "ax.set(xlabel=\"Pred\", ylabel=\"True\", xticklabels=classes, \n",
    "       yticklabels=classes, title=\"Confusion matrix\")\n",
    "plt.yticks(rotation=0)"
   ]
  },
  {
   "cell_type": "code",
   "execution_count": 19,
   "id": "8fc86034",
   "metadata": {},
   "outputs": [
    {
     "name": "stdout",
     "output_type": "stream",
     "text": [
      "\n",
      "KNN:\n",
      "\tAccuracy: 0.3901300433477826\n",
      "\tPrecision: 0.4898582000564087\n",
      "\tRecall: 0.4554443693186087\n",
      "\tF1-Score: 0.3915707243539949\n",
      "Detail:\n",
      "              precision    recall  f1-score   support\n",
      "\n",
      "     Average       0.20      0.64      0.30      1020\n",
      "         Bad       0.43      0.42      0.42      1450\n",
      "        Good       0.84      0.31      0.45      3528\n",
      "\n",
      "    accuracy                           0.39      5998\n",
      "   macro avg       0.49      0.46      0.39      5998\n",
      "weighted avg       0.63      0.39      0.42      5998\n",
      "\n"
     ]
    },
    {
     "data": {
      "text/plain": [
       "(array([0.5, 1.5, 2.5]),\n",
       " [Text(0, 0.5, 'Average'), Text(0, 1.5, 'Bad'), Text(0, 2.5, 'Good')])"
      ]
     },
     "execution_count": 19,
     "metadata": {},
     "output_type": "execute_result"
    },
    {
     "data": {
      "image/png": "[encoded data removed]",
      "text/plain": [
       "<Figure size 432x288 with 1 Axes>"
      ]
     },
     "metadata": {
      "needs_background": "light"
     },
     "output_type": "display_data"
    }
   ],
   "source": [
    "model = KNeighborsClassifier(n_neighbors=3)\n",
    "model.fit(X_train_dtm, y_train)\n",
    "y_pred_class = model.predict(X_test_dtm)\n",
    "\n",
    "acuracy = metrics.accuracy_score(y_test, y_pred_class)\n",
    "precision = metrics.precision_score(y_test, y_pred_class, average='macro')\n",
    "recall = metrics.recall_score(y_test, y_pred_class, average='macro')\n",
    "f1score = metrics.f1_score(y_test, y_pred_class, average='macro')\n",
    "\n",
    "print(\"\\nKNN:\")\n",
    "print(\"\\tAccuracy:\",acuracy)\n",
    "print(\"\\tPrecision:\",precision)\n",
    "print(\"\\tRecall:\",recall)\n",
    "print(\"\\tF1-Score:\",f1score)\n",
    "\n",
    "new_row = {'Approach':'Machine Learning + TfIdf Vectorizer + Text Preprocessing', \n",
    "           'Algorithm':'KNN', \n",
    "           'Accuracy':acuracy, \n",
    "           'Precision':precision,\n",
    "           'Recall':recall,\n",
    "           'F1-Score':f1score\n",
    "          }\n",
    "\n",
    "evaluation = evaluation.append(new_row, ignore_index=True)\n",
    "\n",
    "\n",
    "print(\"Detail:\")\n",
    "print(metrics.classification_report(y_test, y_pred_class))\n",
    "\n",
    "classes = np.unique(y_test)\n",
    "\n",
    "## Plot confusion matrix\n",
    "cm = metrics.confusion_matrix(y_test, y_pred_class)\n",
    "fig, ax = plt.subplots()\n",
    "sns.heatmap(cm, annot=True, fmt='d', ax=ax, cmap=plt.cm.Blues, \n",
    "            cbar=False)\n",
    "ax.set(xlabel=\"Pred\", ylabel=\"True\", xticklabels=classes, \n",
    "       yticklabels=classes, title=\"Confusion matrix\")\n",
    "plt.yticks(rotation=0)"
   ]
  },
  {
   "cell_type": "code",
   "execution_count": 20,
   "id": "33ca5a46",
   "metadata": {},
   "outputs": [
    {
     "name": "stdout",
     "output_type": "stream",
     "text": [
      "\n",
      "Random Forest:\n",
      "\tAccuracy: 0.6585528509503168\n",
      "\tPrecision: 0.5416072374427813\n",
      "\tRecall: 0.5252353431794173\n",
      "\tF1-Score: 0.5254327473602695\n",
      "Detail:\n",
      "              precision    recall  f1-score   support\n",
      "\n",
      "     Average       0.29      0.16      0.20      1020\n",
      "         Bad       0.61      0.59      0.60      1450\n",
      "        Good       0.73      0.83      0.78      3528\n",
      "\n",
      "    accuracy                           0.66      5998\n",
      "   macro avg       0.54      0.53      0.53      5998\n",
      "weighted avg       0.62      0.66      0.64      5998\n",
      "\n"
     ]
    },
    {
     "data": {
      "text/plain": [
       "(array([0.5, 1.5, 2.5]),\n",
       " [Text(0, 0.5, 'Average'), Text(0, 1.5, 'Bad'), Text(0, 2.5, 'Good')])"
      ]
     },
     "execution_count": 20,
     "metadata": {},
     "output_type": "execute_result"
    },
    {
     "data": {
      "image/png": "[encoded data removed]",
      "text/plain": [
       "<Figure size 432x288 with 1 Axes>"
      ]
     },
     "metadata": {
      "needs_background": "light"
     },
     "output_type": "display_data"
    }
   ],
   "source": [
    "model = RandomForestClassifier(n_estimators=100)\n",
    "model.fit(X_train_dtm, y_train)\n",
    "y_pred_class = model.predict(X_test_dtm)\n",
    "\n",
    "acuracy = metrics.accuracy_score(y_test, y_pred_class)\n",
    "precision = metrics.precision_score(y_test, y_pred_class, average='macro')\n",
    "recall = metrics.recall_score(y_test, y_pred_class, average='macro')\n",
    "f1score = metrics.f1_score(y_test, y_pred_class, average='macro')\n",
    "\n",
    "print(\"\\nRandom Forest:\")\n",
    "print(\"\\tAccuracy:\",acuracy)\n",
    "print(\"\\tPrecision:\",precision)\n",
    "print(\"\\tRecall:\",recall)\n",
    "print(\"\\tF1-Score:\",f1score)\n",
    "\n",
    "new_row = {'Approach':'Machine Learning + Count Vectorizer + Text Preprocessing + Resampling', \n",
    "           'Algorithm':'Random Forest', \n",
    "           'Accuracy':acuracy, \n",
    "           'Precision':precision,\n",
    "           'Recall':recall,\n",
    "           'F1-Score':f1score\n",
    "          }\n",
    "\n",
    "evaluation = evaluation.append(new_row, ignore_index=True)\n",
    "\n",
    "\n",
    "print(\"Detail:\")\n",
    "print(metrics.classification_report(y_test, y_pred_class))\n",
    "\n",
    "classes = np.unique(y_test)\n",
    "\n",
    "## Plot confusion matrix\n",
    "cm = metrics.confusion_matrix(y_test, y_pred_class)\n",
    "fig, ax = plt.subplots()\n",
    "sns.heatmap(cm, annot=True, fmt='d', ax=ax, cmap=plt.cm.Blues, \n",
    "            cbar=False)\n",
    "ax.set(xlabel=\"Pred\", ylabel=\"True\", xticklabels=classes, \n",
    "       yticklabels=classes, title=\"Confusion matrix\")\n",
    "plt.yticks(rotation=0)"
   ]
  },
  {
   "cell_type": "code",
   "execution_count": 21,
   "id": "875ecf21",
   "metadata": {},
   "outputs": [],
   "source": [
    "evaluation.to_csv('results.csv')"
   ]
  }
 ],
 "metadata": {
  "kernelspec": {
   "display_name": "Python 3 (ipykernel)",
   "language": "python",
   "name": "python3"
  },
  "language_info": {
   "codemirror_mode": {
    "name": "ipython",
    "version": 3
   },
   "file_extension": ".py",
   "mimetype": "text/x-python",
   "name": "python",
   "nbconvert_exporter": "python",
   "pygments_lexer": "ipython3",
   "version": "3.7.9"
  }
 },
 "nbformat": 4,
 "nbformat_minor": 5
}
