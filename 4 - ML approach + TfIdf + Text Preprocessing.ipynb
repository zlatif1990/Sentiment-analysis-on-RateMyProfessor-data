{
 "cells": [
  {
   "cell_type": "code",
   "execution_count": 1,
   "id": "c8385820",
   "metadata": {},
   "outputs": [],
   "source": [
    "import pandas as pd\n",
    "import numpy as np\n",
    "\n",
    "import nltk\n",
    "from nltk.corpus import stopwords\n",
    "from nltk.stem import PorterStemmer\n",
    "\n",
    "import matplotlib.pyplot as plt\n",
    "import seaborn as sns\n",
    "\n",
    "from sklearn.model_selection import train_test_split\n",
    "from sklearn.feature_extraction.text import TfidfVectorizer, CountVectorizer\n",
    "from sklearn import metrics\n",
    "\n",
    "from sklearn.linear_model import LogisticRegression\n",
    "from sklearn.svm import SVC\n",
    "from sklearn.naive_bayes import MultinomialNB\n",
    "from sklearn.tree import DecisionTreeClassifier\n",
    "from sklearn.neighbors import KNeighborsClassifier\n",
    "from sklearn.ensemble import RandomForestClassifier"
   ]
  },
  {
   "cell_type": "code",
   "execution_count": 2,
   "id": "2b5dc6bc",
   "metadata": {},
   "outputs": [],
   "source": [
    "## create dtf\n",
    "\n",
    "data = pd.read_csv(\"data.csv\")\n",
    "\n",
    "## dropping all columns except the following\n",
    "data = data[['student_star','comments']]\n",
    "\n",
    "# 5.0 to 4.0 - Good\n",
    "# 3.5 to 2.5 - Average\n",
    "# 2.0 to 1.0 - Bad\n",
    "\n",
    "data['student_star'] = data['student_star'].replace([5.0],'Good')\n",
    "data['student_star'] = data['student_star'].replace([4.5],'Good')\n",
    "data['student_star'] = data['student_star'].replace([4.0],'Good')\n",
    "\n",
    "data['student_star'] = data['student_star'].replace([3.5],'Average')\n",
    "data['student_star'] = data['student_star'].replace([3.0],'Average')\n",
    "data['student_star'] = data['student_star'].replace([2.5],'Average')\n",
    "\n",
    "data['student_star'] = data['student_star'].replace([2.0],'Bad')\n",
    "data['student_star'] = data['student_star'].replace([1.5],'Bad')\n",
    "data['student_star'] = data['student_star'].replace([1.0],'Bad')\n",
    "\n",
    "## rename columns\n",
    "data = data.rename(columns={\"student_star\":\"Labels\", \"comments\":\"Text\"})\n",
    "\n",
    "## dropping rows with na\n",
    "data = data.dropna()\n",
    "\n",
    "## print 5 random rows\n",
    "data.sample(5)\n",
    "\n",
    "## removing blank rows\n",
    "data = data.dropna()"
   ]
  },
  {
   "cell_type": "code",
   "execution_count": 3,
   "id": "d437115d",
   "metadata": {},
   "outputs": [
    {
     "data": {
      "text/plain": [
       "Good       11814\n",
       "Bad         4764\n",
       "Average     3415\n",
       "Name: Labels, dtype: int64"
      ]
     },
     "execution_count": 3,
     "metadata": {},
     "output_type": "execute_result"
    }
   ],
   "source": [
    "## Class distribution\n",
    "\n",
    "data['Labels'].value_counts()"
   ]
  },
  {
   "cell_type": "code",
   "execution_count": 4,
   "id": "14388cd8",
   "metadata": {},
   "outputs": [
    {
     "data": {
      "image/png": "[encoded data removed]",
      "text/plain": [
       "<Figure size 432x288 with 1 Axes>"
      ]
     },
     "metadata": {
      "needs_background": "light"
     },
     "output_type": "display_data"
    }
   ],
   "source": [
    "## Plotting class distribution\n",
    "\n",
    "fig, ax = plt.subplots()\n",
    "fig.suptitle(\"Class frequency\", fontsize=12)\n",
    "data[\"Labels\"].reset_index().groupby(\"Labels\").count().sort_values(by = \"index\").plot(kind = \"barh\", legend=False, ax=ax).grid(axis = 'x')\n",
    "plt.show()"
   ]
  },
  {
   "cell_type": "code",
   "execution_count": 5,
   "id": "0318cfee",
   "metadata": {},
   "outputs": [
    {
     "name": "stderr",
     "output_type": "stream",
     "text": [
      "[nltk_data] Downloading package stopwords to\n",
      "[nltk_data]     C:\\Users\\Teacher\\AppData\\Roaming\\nltk_data...\n",
      "[nltk_data]   Package stopwords is already up-to-date!\n"
     ]
    }
   ],
   "source": [
    "## Downloading and storing english stop words\n",
    "\n",
    "nltk.download('stopwords')\n",
    "stop = stopwords.words('english')"
   ]
  },
  {
   "cell_type": "code",
   "execution_count": 6,
   "id": "c78e0a75",
   "metadata": {},
   "outputs": [
    {
     "data": {
      "text/html": [
       "<div>\n",
       "<style scoped>\n",
       "    .dataframe tbody tr th:only-of-type {\n",
       "        vertical-align: middle;\n",
       "    }\n",
       "\n",
       "    .dataframe tbody tr th {\n",
       "        vertical-align: top;\n",
       "    }\n",
       "\n",
       "    .dataframe thead th {\n",
       "        text-align: right;\n",
       "    }\n",
       "</style>\n",
       "<table border=\"1\" class=\"dataframe\">\n",
       "  <thead>\n",
       "    <tr style=\"text-align: right;\">\n",
       "      <th></th>\n",
       "      <th>Labels</th>\n",
       "      <th>Text</th>\n",
       "    </tr>\n",
       "  </thead>\n",
       "  <tbody>\n",
       "    <tr>\n",
       "      <th>0</th>\n",
       "      <td>Good</td>\n",
       "      <td>This class is hard, but its a two-in-one gen-e...</td>\n",
       "    </tr>\n",
       "    <tr>\n",
       "      <th>1</th>\n",
       "      <td>Good</td>\n",
       "      <td>Definitely going to choose Prof. Looney\\'s cla...</td>\n",
       "    </tr>\n",
       "    <tr>\n",
       "      <th>2</th>\n",
       "      <td>Good</td>\n",
       "      <td>I overall enjoyed this class because the assig...</td>\n",
       "    </tr>\n",
       "    <tr>\n",
       "      <th>3</th>\n",
       "      <td>Good</td>\n",
       "      <td>Yes, it\\'s possible to get an A but you\\'ll de...</td>\n",
       "    </tr>\n",
       "    <tr>\n",
       "      <th>4</th>\n",
       "      <td>Good</td>\n",
       "      <td>Professor Looney has great knowledge in Astron...</td>\n",
       "    </tr>\n",
       "  </tbody>\n",
       "</table>\n",
       "</div>"
      ],
      "text/plain": [
       "  Labels                                               Text\n",
       "0   Good  This class is hard, but its a two-in-one gen-e...\n",
       "1   Good  Definitely going to choose Prof. Looney\\'s cla...\n",
       "2   Good  I overall enjoyed this class because the assig...\n",
       "3   Good  Yes, it\\'s possible to get an A but you\\'ll de...\n",
       "4   Good  Professor Looney has great knowledge in Astron..."
      ]
     },
     "execution_count": 6,
     "metadata": {},
     "output_type": "execute_result"
    }
   ],
   "source": [
    "## Data snapshot\n",
    "\n",
    "data.head()"
   ]
  },
  {
   "cell_type": "code",
   "execution_count": 7,
   "id": "cf664b50",
   "metadata": {},
   "outputs": [
    {
     "name": "stderr",
     "output_type": "stream",
     "text": [
      "c:\\users\\teacher\\appdata\\local\\programs\\python\\python37\\lib\\site-packages\\ipykernel_launcher.py:2: FutureWarning: The default value of regex will change from True to False in a future version.\n",
      "  \n"
     ]
    }
   ],
   "source": [
    "#Removing punctuation\n",
    "data['Text'] = data['Text'].str.replace('[^\\w\\s]','')\n",
    "\n",
    "#Removing stopwords\n",
    "data['Text'] = data['Text'].apply(lambda x: \" \".join(x for x in x.split() if x not in stop))\n",
    "data['Text'] = data['Text'].apply(lambda x: \" \".join(x.lower() for x in x.split()))\n",
    "\n",
    "#Stemming\n",
    "stemmer = PorterStemmer()\n",
    "data['Text'] = data['Text'].apply(lambda x: \" \".join([stemmer.stem(word) for word in x.split()]))"
   ]
  },
  {
   "cell_type": "code",
   "execution_count": 8,
   "id": "4a52af70",
   "metadata": {},
   "outputs": [],
   "source": [
    "## Split data into 70% training and 30% testing set\n",
    "\n",
    "feature_cols = ['Text']\n",
    "X = data[feature_cols]\n",
    "y = data.Labels\n",
    "\n",
    "X_train, X_test, y_train, y_test = train_test_split(X, y, test_size=0.3, random_state=0)"
   ]
  },
  {
   "cell_type": "code",
   "execution_count": 9,
   "id": "8b71df1f",
   "metadata": {},
   "outputs": [
    {
     "name": "stdout",
     "output_type": "stream",
     "text": [
      "(13995, 12459)\n",
      "(5998, 12459)\n"
     ]
    }
   ],
   "source": [
    "## Using TF-IDF to get features from words\n",
    "\n",
    "vect = TfidfVectorizer()\n",
    "X_train_dtm = vect.fit_transform(X_train.Text)\n",
    "X_test_dtm = vect.transform(X_test.Text)\n",
    "print(X_train_dtm.shape)\n",
    "print(X_test_dtm.shape)"
   ]
  },
  {
   "cell_type": "code",
   "execution_count": 10,
   "id": "6a120f73",
   "metadata": {},
   "outputs": [],
   "source": [
    "## Preparing a dataframe to store the results\n",
    "\n",
    "evaluation = pd.read_csv(\"results.csv\")"
   ]
  },
  {
   "cell_type": "markdown",
   "id": "9326ade2",
   "metadata": {},
   "source": [
    "##### Loading the different ML models.\n",
    "##### Training and Testing"
   ]
  },
  {
   "cell_type": "code",
   "execution_count": 11,
   "id": "014ff40a",
   "metadata": {},
   "outputs": [
    {
     "name": "stderr",
     "output_type": "stream",
     "text": [
      "c:\\users\\teacher\\appdata\\local\\programs\\python\\python37\\lib\\site-packages\\sklearn\\linear_model\\_logistic.py:818: ConvergenceWarning: lbfgs failed to converge (status=1):\n",
      "STOP: TOTAL NO. of ITERATIONS REACHED LIMIT.\n",
      "\n",
      "Increase the number of iterations (max_iter) or scale the data as shown in:\n",
      "    https://scikit-learn.org/stable/modules/preprocessing.html\n",
      "Please also refer to the documentation for alternative solver options:\n",
      "    https://scikit-learn.org/stable/modules/linear_model.html#logistic-regression\n",
      "  extra_warning_msg=_LOGISTIC_SOLVER_CONVERGENCE_MSG,\n"
     ]
    },
    {
     "name": "stdout",
     "output_type": "stream",
     "text": [
      "\n",
      "Logistic Regression:\n",
      "\tAccuracy: 0.6842280760253417\n",
      "\tPrecision: 0.5851644806348639\n",
      "\tRecall: 0.5694037308409954\n",
      "\tF1-Score: 0.575655286043968\n",
      "Detail:\n",
      "              precision    recall  f1-score   support\n",
      "\n",
      "     Average       0.32      0.27      0.29      1020\n",
      "         Bad       0.66      0.60      0.63      1450\n",
      "        Good       0.77      0.84      0.81      3528\n",
      "\n",
      "    accuracy                           0.68      5998\n",
      "   macro avg       0.59      0.57      0.58      5998\n",
      "weighted avg       0.67      0.68      0.68      5998\n",
      "\n"
     ]
    },
    {
     "data": {
      "text/plain": [
       "(array([0.5, 1.5, 2.5]),\n",
       " [Text(0, 0.5, 'Average'), Text(0, 1.5, 'Bad'), Text(0, 2.5, 'Good')])"
      ]
     },
     "execution_count": 11,
     "metadata": {},
     "output_type": "execute_result"
    },
    {
     "data": {
      "image/png": "[encoded data removed]",
      "text/plain": [
       "<Figure size 432x288 with 1 Axes>"
      ]
     },
     "metadata": {
      "needs_background": "light"
     },
     "output_type": "display_data"
    }
   ],
   "source": [
    "model = LogisticRegression(C=1e9)\n",
    "model.fit(X_train_dtm, y_train)\n",
    "y_pred_class = model.predict(X_test_dtm)\n",
    "\n",
    "acuracy = metrics.accuracy_score(y_test, y_pred_class)\n",
    "precision = metrics.precision_score(y_test, y_pred_class, average='macro')\n",
    "recall = metrics.recall_score(y_test, y_pred_class, average='macro')\n",
    "f1score = metrics.f1_score(y_test, y_pred_class, average='macro')\n",
    "\n",
    "print(\"\\nLogistic Regression:\")\n",
    "print(\"\\tAccuracy:\",acuracy)\n",
    "print(\"\\tPrecision:\",precision)\n",
    "print(\"\\tRecall:\",recall)\n",
    "print(\"\\tF1-Score:\",f1score)\n",
    "\n",
    "new_row = {'Approach':'Machine Learning + TfIdf Vectorizer + Text Preprocessing', \n",
    "           'Algorithm':'Logistic Regression', \n",
    "           'Accuracy':acuracy, \n",
    "           'Precision':precision,\n",
    "           'Recall':recall,\n",
    "           'F1-Score':f1score\n",
    "          }\n",
    "\n",
    "evaluation = evaluation.append(new_row, ignore_index=True)\n",
    "\n",
    "\n",
    "print(\"Detail:\")\n",
    "print(metrics.classification_report(y_test, y_pred_class))\n",
    "\n",
    "classes = np.unique(y_test)\n",
    "\n",
    "## Plot confusion matrix\n",
    "cm = metrics.confusion_matrix(y_test, y_pred_class)\n",
    "fig, ax = plt.subplots()\n",
    "sns.heatmap(cm, annot=True, fmt='d', ax=ax, cmap=plt.cm.Blues, \n",
    "            cbar=False)\n",
    "ax.set(xlabel=\"Pred\", ylabel=\"True\", xticklabels=classes, \n",
    "       yticklabels=classes, title=\"Confusion matrix\")\n",
    "plt.yticks(rotation=0)"
   ]
  },
  {
   "cell_type": "code",
   "execution_count": 12,
   "id": "67b0f5d8",
   "metadata": {},
   "outputs": [
    {
     "name": "stdout",
     "output_type": "stream",
     "text": [
      "\n",
      "SVM:\n",
      "\tAccuracy: 0.7335778592864288\n",
      "\tPrecision: 0.6432282959256855\n",
      "\tRecall: 0.5745341891545891\n",
      "\tF1-Score: 0.5724787001589519\n",
      "Detail:\n",
      "              precision    recall  f1-score   support\n",
      "\n",
      "     Average       0.45      0.12      0.19      1020\n",
      "         Bad       0.73      0.67      0.69      1450\n",
      "        Good       0.75      0.94      0.84      3528\n",
      "\n",
      "    accuracy                           0.73      5998\n",
      "   macro avg       0.64      0.57      0.57      5998\n",
      "weighted avg       0.70      0.73      0.69      5998\n",
      "\n"
     ]
    },
    {
     "data": {
      "text/plain": [
       "(array([0.5, 1.5, 2.5]),\n",
       " [Text(0, 0.5, 'Average'), Text(0, 1.5, 'Bad'), Text(0, 2.5, 'Good')])"
      ]
     },
     "execution_count": 12,
     "metadata": {},
     "output_type": "execute_result"
    },
    {
     "data": {
      "image/png": "[encoded data removed]",
      "text/plain": [
       "<Figure size 432x288 with 1 Axes>"
      ]
     },
     "metadata": {
      "needs_background": "light"
     },
     "output_type": "display_data"
    }
   ],
   "source": [
    "model = SVC()\n",
    "model.fit(X_train_dtm, y_train)\n",
    "y_pred_class = model.predict(X_test_dtm)\n",
    "\n",
    "acuracy = metrics.accuracy_score(y_test, y_pred_class)\n",
    "precision = metrics.precision_score(y_test, y_pred_class, average='macro')\n",
    "recall = metrics.recall_score(y_test, y_pred_class, average='macro')\n",
    "f1score = metrics.f1_score(y_test, y_pred_class, average='macro')\n",
    "\n",
    "print(\"\\nSVM:\")\n",
    "print(\"\\tAccuracy:\",acuracy)\n",
    "print(\"\\tPrecision:\",precision)\n",
    "print(\"\\tRecall:\",recall)\n",
    "print(\"\\tF1-Score:\",f1score)\n",
    "\n",
    "new_row = {'Approach':'Machine Learning + TfIdf Vectorizer + Text Preprocessing', \n",
    "           'Algorithm':'SVM', \n",
    "           'Accuracy':acuracy, \n",
    "           'Precision':precision,\n",
    "           'Recall':recall,\n",
    "           'F1-Score':f1score\n",
    "          }\n",
    "\n",
    "evaluation = evaluation.append(new_row, ignore_index=True)\n",
    "\n",
    "\n",
    "print(\"Detail:\")\n",
    "print(metrics.classification_report(y_test, y_pred_class))\n",
    "\n",
    "classes = np.unique(y_test)\n",
    "\n",
    "## Plot confusion matrix\n",
    "cm = metrics.confusion_matrix(y_test, y_pred_class)\n",
    "fig, ax = plt.subplots()\n",
    "sns.heatmap(cm, annot=True, fmt='d', ax=ax, cmap=plt.cm.Blues, \n",
    "            cbar=False)\n",
    "ax.set(xlabel=\"Pred\", ylabel=\"True\", xticklabels=classes, \n",
    "       yticklabels=classes, title=\"Confusion matrix\")\n",
    "plt.yticks(rotation=0)"
   ]
  },
  {
   "cell_type": "code",
   "execution_count": 13,
   "id": "97b384cf",
   "metadata": {},
   "outputs": [
    {
     "name": "stdout",
     "output_type": "stream",
     "text": [
      "\n",
      "Multinomial NB:\n",
      "\tAccuracy: 0.6435478492830944\n",
      "\tPrecision: 0.8370581680382162\n",
      "\tRecall: 0.4102936960224703\n",
      "\tF1-Score: 0.37962978676462295\n",
      "Detail:\n",
      "              precision    recall  f1-score   support\n",
      "\n",
      "     Average       1.00      0.00      0.00      1020\n",
      "         Bad       0.88      0.23      0.37      1450\n",
      "        Good       0.63      1.00      0.77      3528\n",
      "\n",
      "    accuracy                           0.64      5998\n",
      "   macro avg       0.84      0.41      0.38      5998\n",
      "weighted avg       0.75      0.64      0.54      5998\n",
      "\n"
     ]
    },
    {
     "data": {
      "text/plain": [
       "(array([0.5, 1.5, 2.5]),\n",
       " [Text(0, 0.5, 'Average'), Text(0, 1.5, 'Bad'), Text(0, 2.5, 'Good')])"
      ]
     },
     "execution_count": 13,
     "metadata": {},
     "output_type": "execute_result"
    },
    {
     "data": {
      "image/png": "[encoded data removed]",
      "text/plain": [
       "<Figure size 432x288 with 1 Axes>"
      ]
     },
     "metadata": {
      "needs_background": "light"
     },
     "output_type": "display_data"
    }
   ],
   "source": [
    "model = MultinomialNB()\n",
    "model.fit(X_train_dtm, y_train)\n",
    "y_pred_class = model.predict(X_test_dtm)\n",
    "\n",
    "acuracy = metrics.accuracy_score(y_test, y_pred_class)\n",
    "precision = metrics.precision_score(y_test, y_pred_class, average='macro')\n",
    "recall = metrics.recall_score(y_test, y_pred_class, average='macro')\n",
    "f1score = metrics.f1_score(y_test, y_pred_class, average='macro')\n",
    "\n",
    "print(\"\\nMultinomial NB:\")\n",
    "print(\"\\tAccuracy:\",acuracy)\n",
    "print(\"\\tPrecision:\",precision)\n",
    "print(\"\\tRecall:\",recall)\n",
    "print(\"\\tF1-Score:\",f1score)\n",
    "\n",
    "new_row = {'Approach':'Machine Learning + TfIdf Vectorizer + Text Preprocessing', \n",
    "           'Algorithm':'Multinomial NB', \n",
    "           'Accuracy':acuracy, \n",
    "           'Precision':precision,\n",
    "           'Recall':recall,\n",
    "           'F1-Score':f1score\n",
    "          }\n",
    "\n",
    "evaluation = evaluation.append(new_row, ignore_index=True)\n",
    "\n",
    "\n",
    "print(\"Detail:\")\n",
    "print(metrics.classification_report(y_test, y_pred_class))\n",
    "\n",
    "classes = np.unique(y_test)\n",
    "\n",
    "## Plot confusion matrix\n",
    "cm = metrics.confusion_matrix(y_test, y_pred_class)\n",
    "fig, ax = plt.subplots()\n",
    "sns.heatmap(cm, annot=True, fmt='d', ax=ax, cmap=plt.cm.Blues, \n",
    "            cbar=False)\n",
    "ax.set(xlabel=\"Pred\", ylabel=\"True\", xticklabels=classes, \n",
    "       yticklabels=classes, title=\"Confusion matrix\")\n",
    "plt.yticks(rotation=0)"
   ]
  },
  {
   "cell_type": "code",
   "execution_count": 14,
   "id": "6c2ec7f8",
   "metadata": {},
   "outputs": [
    {
     "name": "stdout",
     "output_type": "stream",
     "text": [
      "\n",
      "Decision Tree:\n",
      "\tAccuracy: 0.6215405135045015\n",
      "\tPrecision: 0.5092091902370526\n",
      "\tRecall: 0.5031481788117546\n",
      "\tF1-Score: 0.5049858250123185\n",
      "Detail:\n",
      "              precision    recall  f1-score   support\n",
      "\n",
      "     Average       0.25      0.20      0.23      1020\n",
      "         Bad       0.55      0.52      0.53      1450\n",
      "        Good       0.73      0.78      0.76      3528\n",
      "\n",
      "    accuracy                           0.62      5998\n",
      "   macro avg       0.51      0.50      0.50      5998\n",
      "weighted avg       0.60      0.62      0.61      5998\n",
      "\n"
     ]
    },
    {
     "data": {
      "text/plain": [
       "(array([0.5, 1.5, 2.5]),\n",
       " [Text(0, 0.5, 'Average'), Text(0, 1.5, 'Bad'), Text(0, 2.5, 'Good')])"
      ]
     },
     "execution_count": 14,
     "metadata": {},
     "output_type": "execute_result"
    },
    {
     "data": {
      "image/png": "[encoded data removed]",
      "text/plain": [
       "<Figure size 432x288 with 1 Axes>"
      ]
     },
     "metadata": {
      "needs_background": "light"
     },
     "output_type": "display_data"
    }
   ],
   "source": [
    "model = DecisionTreeClassifier()\n",
    "model.fit(X_train_dtm, y_train)\n",
    "y_pred_class = model.predict(X_test_dtm)\n",
    "\n",
    "acuracy = metrics.accuracy_score(y_test, y_pred_class)\n",
    "precision = metrics.precision_score(y_test, y_pred_class, average='macro')\n",
    "recall = metrics.recall_score(y_test, y_pred_class, average='macro')\n",
    "f1score = metrics.f1_score(y_test, y_pred_class, average='macro')\n",
    "\n",
    "print(\"\\nDecision Tree:\")\n",
    "print(\"\\tAccuracy:\",acuracy)\n",
    "print(\"\\tPrecision:\",precision)\n",
    "print(\"\\tRecall:\",recall)\n",
    "print(\"\\tF1-Score:\",f1score)\n",
    "\n",
    "new_row = {'Approach':'Machine Learning + TfIdf Vectorizer + Text Preprocessing', \n",
    "           'Algorithm':'Decision Tree', \n",
    "           'Accuracy':acuracy, \n",
    "           'Precision':precision,\n",
    "           'Recall':recall,\n",
    "           'F1-Score':f1score\n",
    "          }\n",
    "\n",
    "evaluation = evaluation.append(new_row, ignore_index=True)\n",
    "\n",
    "\n",
    "print(\"Detail:\")\n",
    "print(metrics.classification_report(y_test, y_pred_class))\n",
    "\n",
    "classes = np.unique(y_test)\n",
    "\n",
    "## Plot confusion matrix\n",
    "cm = metrics.confusion_matrix(y_test, y_pred_class)\n",
    "fig, ax = plt.subplots()\n",
    "sns.heatmap(cm, annot=True, fmt='d', ax=ax, cmap=plt.cm.Blues, \n",
    "            cbar=False)\n",
    "ax.set(xlabel=\"Pred\", ylabel=\"True\", xticklabels=classes, \n",
    "       yticklabels=classes, title=\"Confusion matrix\")\n",
    "plt.yticks(rotation=0)"
   ]
  },
  {
   "cell_type": "code",
   "execution_count": 15,
   "id": "8fc86034",
   "metadata": {},
   "outputs": [
    {
     "name": "stdout",
     "output_type": "stream",
     "text": [
      "\n",
      "KNN:\n",
      "\tAccuracy: 0.286595531843948\n",
      "\tPrecision: 0.4398414573952616\n",
      "\tRecall: 0.3579304288765315\n",
      "\tF1-Score: 0.21953702478576034\n",
      "Detail:\n",
      "              precision    recall  f1-score   support\n",
      "\n",
      "     Average       0.19      0.07      0.10      1020\n",
      "         Bad       0.25      0.92      0.39      1450\n",
      "        Good       0.88      0.09      0.17      3528\n",
      "\n",
      "    accuracy                           0.29      5998\n",
      "   macro avg       0.44      0.36      0.22      5998\n",
      "weighted avg       0.61      0.29      0.21      5998\n",
      "\n"
     ]
    },
    {
     "data": {
      "text/plain": [
       "(array([0.5, 1.5, 2.5]),\n",
       " [Text(0, 0.5, 'Average'), Text(0, 1.5, 'Bad'), Text(0, 2.5, 'Good')])"
      ]
     },
     "execution_count": 15,
     "metadata": {},
     "output_type": "execute_result"
    },
    {
     "data": {
      "image/png": "[encoded data removed]",
      "text/plain": [
       "<Figure size 432x288 with 1 Axes>"
      ]
     },
     "metadata": {
      "needs_background": "light"
     },
     "output_type": "display_data"
    }
   ],
   "source": [
    "model = KNeighborsClassifier(n_neighbors=3)\n",
    "model.fit(X_train_dtm, y_train)\n",
    "y_pred_class = model.predict(X_test_dtm)\n",
    "\n",
    "acuracy = metrics.accuracy_score(y_test, y_pred_class)\n",
    "precision = metrics.precision_score(y_test, y_pred_class, average='macro')\n",
    "recall = metrics.recall_score(y_test, y_pred_class, average='macro')\n",
    "f1score = metrics.f1_score(y_test, y_pred_class, average='macro')\n",
    "\n",
    "print(\"\\nKNN:\")\n",
    "print(\"\\tAccuracy:\",acuracy)\n",
    "print(\"\\tPrecision:\",precision)\n",
    "print(\"\\tRecall:\",recall)\n",
    "print(\"\\tF1-Score:\",f1score)\n",
    "\n",
    "new_row = {'Approach':'Machine Learning + TfIdf Vectorizer + Text Preprocessing', \n",
    "           'Algorithm':'KNN', \n",
    "           'Accuracy':acuracy, \n",
    "           'Precision':precision,\n",
    "           'Recall':recall,\n",
    "           'F1-Score':f1score\n",
    "          }\n",
    "\n",
    "evaluation = evaluation.append(new_row, ignore_index=True)\n",
    "\n",
    "\n",
    "print(\"Detail:\")\n",
    "print(metrics.classification_report(y_test, y_pred_class))\n",
    "\n",
    "classes = np.unique(y_test)\n",
    "\n",
    "## Plot confusion matrix\n",
    "cm = metrics.confusion_matrix(y_test, y_pred_class)\n",
    "fig, ax = plt.subplots()\n",
    "sns.heatmap(cm, annot=True, fmt='d', ax=ax, cmap=plt.cm.Blues, \n",
    "            cbar=False)\n",
    "ax.set(xlabel=\"Pred\", ylabel=\"True\", xticklabels=classes, \n",
    "       yticklabels=classes, title=\"Confusion matrix\")\n",
    "plt.yticks(rotation=0)"
   ]
  },
  {
   "cell_type": "code",
   "execution_count": 16,
   "id": "33ca5a46",
   "metadata": {},
   "outputs": [
    {
     "name": "stdout",
     "output_type": "stream",
     "text": [
      "\n",
      "Random Forest:\n",
      "\tAccuracy: 0.7030676892297433\n",
      "\tPrecision: 0.6236176143860283\n",
      "\tRecall: 0.5060981404055875\n",
      "\tF1-Score: 0.4841931769595805\n",
      "Detail:\n",
      "              precision    recall  f1-score   support\n",
      "\n",
      "     Average       0.43      0.01      0.02      1020\n",
      "         Bad       0.74      0.54      0.62      1450\n",
      "        Good       0.70      0.97      0.81      3528\n",
      "\n",
      "    accuracy                           0.70      5998\n",
      "   macro avg       0.62      0.51      0.48      5998\n",
      "weighted avg       0.66      0.70      0.63      5998\n",
      "\n"
     ]
    },
    {
     "data": {
      "text/plain": [
       "(array([0.5, 1.5, 2.5]),\n",
       " [Text(0, 0.5, 'Average'), Text(0, 1.5, 'Bad'), Text(0, 2.5, 'Good')])"
      ]
     },
     "execution_count": 16,
     "metadata": {},
     "output_type": "execute_result"
    },
    {
     "data": {
      "image/png": "[encoded data removed]",
      "text/plain": [
       "<Figure size 432x288 with 1 Axes>"
      ]
     },
     "metadata": {
      "needs_background": "light"
     },
     "output_type": "display_data"
    }
   ],
   "source": [
    "model = RandomForestClassifier(n_estimators=100)\n",
    "model.fit(X_train_dtm, y_train)\n",
    "y_pred_class = model.predict(X_test_dtm)\n",
    "\n",
    "acuracy = metrics.accuracy_score(y_test, y_pred_class)\n",
    "precision = metrics.precision_score(y_test, y_pred_class, average='macro')\n",
    "recall = metrics.recall_score(y_test, y_pred_class, average='macro')\n",
    "f1score = metrics.f1_score(y_test, y_pred_class, average='macro')\n",
    "\n",
    "print(\"\\nRandom Forest:\")\n",
    "print(\"\\tAccuracy:\",acuracy)\n",
    "print(\"\\tPrecision:\",precision)\n",
    "print(\"\\tRecall:\",recall)\n",
    "print(\"\\tF1-Score:\",f1score)\n",
    "\n",
    "new_row = {'Approach':'Machine Learning + TfIdf Vectorizer + Text Preprocessing', \n",
    "           'Algorithm':'Random Forest', \n",
    "           'Accuracy':acuracy, \n",
    "           'Precision':precision,\n",
    "           'Recall':recall,\n",
    "           'F1-Score':f1score\n",
    "          }\n",
    "\n",
    "evaluation = evaluation.append(new_row, ignore_index=True)\n",
    "\n",
    "\n",
    "print(\"Detail:\")\n",
    "print(metrics.classification_report(y_test, y_pred_class))\n",
    "\n",
    "classes = np.unique(y_test)\n",
    "\n",
    "## Plot confusion matrix\n",
    "cm = metrics.confusion_matrix(y_test, y_pred_class)\n",
    "fig, ax = plt.subplots()\n",
    "sns.heatmap(cm, annot=True, fmt='d', ax=ax, cmap=plt.cm.Blues, \n",
    "            cbar=False)\n",
    "ax.set(xlabel=\"Pred\", ylabel=\"True\", xticklabels=classes, \n",
    "       yticklabels=classes, title=\"Confusion matrix\")\n",
    "plt.yticks(rotation=0)"
   ]
  },
  {
   "cell_type": "code",
   "execution_count": 17,
   "id": "875ecf21",
   "metadata": {},
   "outputs": [],
   "source": [
    "evaluation.to_csv('results.csv')"
   ]
  }
 ],
 "metadata": {
  "kernelspec": {
   "display_name": "Python 3 (ipykernel)",
   "language": "python",
   "name": "python3"
  },
  "language_info": {
   "codemirror_mode": {
    "name": "ipython",
    "version": 3
   },
   "file_extension": ".py",
   "mimetype": "text/x-python",
   "name": "python",
   "nbconvert_exporter": "python",
   "pygments_lexer": "ipython3",
   "version": "3.7.9"
  }
 },
 "nbformat": 4,
 "nbformat_minor": 5
}
